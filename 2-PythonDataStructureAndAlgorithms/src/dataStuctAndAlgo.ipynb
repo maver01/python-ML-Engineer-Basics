{
 "cells": [
  {
   "cell_type": "markdown",
   "id": "382046c5",
   "metadata": {},
   "source": [
    "## Data Structure and Algorithms"
   ]
  },
  {
   "cell_type": "markdown",
   "id": "7d43ceb1",
   "metadata": {},
   "source": [
    "Besides the basic list, tuple, set, dict, string, the collections class contains additional structures."
   ]
  },
  {
   "cell_type": "code",
   "execution_count": 2,
   "id": "d81b9a06",
   "metadata": {},
   "outputs": [],
   "source": [
    "import collections"
   ]
  },
  {
   "cell_type": "markdown",
   "id": "f0bcc541",
   "metadata": {},
   "source": [
    "- **ChainMap**: dict-like class for creating a single view of multiple mappings\n",
    "- **Counter**: dict subclass for counting hashable objects\n",
    "- **deque**: list-like container with fast appends and pops on either end\n",
    "- **defaultdict**: dict subclass that calls a factory function to supply missing values\n",
    "- **namedtuple**: factory function for creating tuple subclasses with named fields"
   ]
  },
  {
   "cell_type": "markdown",
   "id": "771b9eab",
   "metadata": {},
   "source": [
    "## ChainMap\n",
    "A ChainMap class is provided for quickly linking a number of mappings so they can be treated as a single unit. It is often much faster than creating a new dictionary and running multiple update() calls.\n",
    "\n",
    "Basically concats dictionaries"
   ]
  },
  {
   "cell_type": "code",
   "execution_count": 7,
   "id": "44fdb973",
   "metadata": {},
   "outputs": [
    {
     "data": {
      "text/plain": [
       "ChainMap({'art': 'van gogh', 'opera': 'carmen'}, {'music': 'bach', 'art': 'rembrandt'})"
      ]
     },
     "execution_count": 7,
     "metadata": {},
     "output_type": "execute_result"
    }
   ],
   "source": [
    "from collections import ChainMap\n",
    "baseline = {'music': 'bach', 'art': 'rembrandt'}\n",
    "adjustments = {'art': 'van gogh', 'opera': 'carmen'}\n",
    "chain = ChainMap(adjustments, baseline)\n",
    "chain"
   ]
  },
  {
   "cell_type": "code",
   "execution_count": 20,
   "id": "602c69b6",
   "metadata": {},
   "outputs": [
    {
     "name": "stdout",
     "output_type": "stream",
     "text": [
      "van gogh\n",
      "['music', 'art', 'opera']\n",
      "{'music': 'bach', 'art': 'van gogh', 'opera': 'carmen'}\n"
     ]
    }
   ],
   "source": [
    "print(chain['art'])\n",
    "print(list(chain))\n",
    "print(dict(chain))"
   ]
  },
  {
   "cell_type": "markdown",
   "id": "4fb4843f",
   "metadata": {},
   "source": [
    "## Counter\n",
    "A Counter is a dict subclass for counting hashable objects. It is a collection where elements are stored as dictionary keys and their counts are stored as dictionary values.\n",
    "\n",
    "Bascally a dictionary that only contains values and counts."
   ]
  },
  {
   "cell_type": "code",
   "execution_count": 25,
   "id": "af7dac6c",
   "metadata": {},
   "outputs": [
    {
     "data": {
      "text/plain": [
       "Counter({'a': 2, 'b': 1, 'c': 1})"
      ]
     },
     "execution_count": 25,
     "metadata": {},
     "output_type": "execute_result"
    }
   ],
   "source": [
    "from collections import Counter\n",
    "baseline = [\"a\", \"b\", \"c\", \"a\"]\n",
    "Counter(baseline)"
   ]
  },
  {
   "cell_type": "markdown",
   "id": "39b38cb2",
   "metadata": {},
   "source": [
    "## Deque\n",
    "Returns a new deque object initialized left-to-right (using append()) with data from iterable. If iterable is not specified, the new deque is empty.\n",
    "\n",
    "Deques are a generalization of stacks and queues (the name is pronounced “deck” and is short for “double-ended queue”). Deques support thread-safe, memory efficient appends and pops from either side of the deque with approximately the same O(1) performance in either direction."
   ]
  },
  {
   "cell_type": "code",
   "execution_count": 27,
   "id": "7322d43c",
   "metadata": {},
   "outputs": [
    {
     "name": "stdout",
     "output_type": "stream",
     "text": [
      "G\n",
      "H\n",
      "I\n",
      "deque(['g', 'h', 'i'])\n",
      "deque(['g', 'h', 'i', 'j'])\n",
      "deque(['f', 'g', 'h', 'i', 'j'])\n"
     ]
    }
   ],
   "source": [
    "from collections import deque\n",
    "d = deque('ghi')\n",
    "for elem in d:\n",
    "    print(elem.upper())\n",
    "\n",
    "print(d)\n",
    "d.append('j')\n",
    "print(d)\n",
    "d.appendleft('f')\n",
    "print(d)"
   ]
  },
  {
   "cell_type": "markdown",
   "id": "ac4210a2",
   "metadata": {},
   "source": [
    "## Defaultdict\n",
    "It automatically initializes missing keys with a default value."
   ]
  },
  {
   "cell_type": "code",
   "execution_count": 30,
   "id": "130f9a90",
   "metadata": {},
   "outputs": [
    {
     "name": "stdout",
     "output_type": "stream",
     "text": [
      "defaultdict(<class 'int'>, {'apple': 2, 'banana': 1})\n"
     ]
    }
   ],
   "source": [
    "from collections import defaultdict\n",
    "\n",
    "dict1 = defaultdict(int)  # int() -> 0\n",
    "\n",
    "dict1['apple'] += 1\n",
    "dict1['banana'] += 1\n",
    "dict1['apple'] += 1\n",
    "\n",
    "print(dict1)"
   ]
  },
  {
   "cell_type": "markdown",
   "id": "5208dea1",
   "metadata": {},
   "source": [
    "## Namedtuple\n",
    "Assign names to tuple ids."
   ]
  },
  {
   "cell_type": "code",
   "execution_count": 31,
   "id": "b451cc17",
   "metadata": {},
   "outputs": [
    {
     "name": "stdout",
     "output_type": "stream",
     "text": [
      "10\n"
     ]
    }
   ],
   "source": [
    "# tuple\n",
    "point = (10, 20)\n",
    "x = point[0]\n",
    "print(x)"
   ]
  },
  {
   "cell_type": "code",
   "execution_count": 33,
   "id": "5d29bab8",
   "metadata": {},
   "outputs": [
    {
     "name": "stdout",
     "output_type": "stream",
     "text": [
      "10\n"
     ]
    }
   ],
   "source": [
    "# namedtuple\n",
    "from collections import namedtuple\n",
    "Point = namedtuple(\"Point\", [\"x\", \"y\"])\n",
    "point = Point(10, 20)\n",
    "print(point.x)"
   ]
  }
 ],
 "metadata": {
  "kernelspec": {
   "display_name": "1-pythoncoreskills-jFC1dD1O-py3.11",
   "language": "python",
   "name": "python3"
  },
  "language_info": {
   "codemirror_mode": {
    "name": "ipython",
    "version": 3
   },
   "file_extension": ".py",
   "mimetype": "text/x-python",
   "name": "python",
   "nbconvert_exporter": "python",
   "pygments_lexer": "ipython3",
   "version": "3.11.2"
  }
 },
 "nbformat": 4,
 "nbformat_minor": 5
}
