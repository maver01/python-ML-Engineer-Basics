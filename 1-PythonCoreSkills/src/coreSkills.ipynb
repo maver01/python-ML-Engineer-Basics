{
 "cells": [
  {
   "cell_type": "code",
   "execution_count": 1,
   "id": "181c0c97",
   "metadata": {},
   "outputs": [
    {
     "name": "stdout",
     "output_type": "stream",
     "text": [
      "hello world\n"
     ]
    }
   ],
   "source": [
    "print(\"hello world\")"
   ]
  },
  {
   "cell_type": "markdown",
   "id": "a4b882df",
   "metadata": {},
   "source": [
    "# Core Skills"
   ]
  },
  {
   "cell_type": "markdown",
   "id": "d179b6f9",
   "metadata": {},
   "source": [
    "## Use list/dict comprehensions"
   ]
  },
  {
   "cell_type": "code",
   "execution_count": null,
   "id": "e4d796da",
   "metadata": {},
   "outputs": [],
   "source": [
    "# Lists to represent keys and values\n",
    "keys = ['a','b','c','d','e']\n",
    "values = [1,2,3,4,5]"
   ]
  },
  {
   "cell_type": "code",
   "execution_count": 18,
   "id": "098426ea",
   "metadata": {},
   "outputs": [
    {
     "data": {
      "text/plain": [
       "{'a': 1, 'b': 2, 'c': 3, 'd': 4, 'e': 5}"
      ]
     },
     "execution_count": 18,
     "metadata": {},
     "output_type": "execute_result"
    }
   ],
   "source": [
    "# create dictionary with zip and list comprehension\n",
    "myDict = {k:v for (k, v) in zip(keys, values)}\n",
    "myDict"
   ]
  },
  {
   "cell_type": "code",
   "execution_count": 19,
   "id": "ab1336e4",
   "metadata": {},
   "outputs": [
    {
     "data": {
      "text/plain": [
       "[('a', 1), ('b', 2), ('c', 3), ('d', 4), ('e', 5)]"
      ]
     },
     "execution_count": 19,
     "metadata": {},
     "output_type": "execute_result"
    }
   ],
   "source": [
    "# create list of touples with zip and list comprehension\n",
    "myTouple = [(k,v) for (k, v) in zip(keys, values)]\n",
    "myTouple"
   ]
  },
  {
   "cell_type": "markdown",
   "id": "71cf924f",
   "metadata": {},
   "source": [
    "The zip() function returns a zip object, which is an iterator of tuples where the first item in each passed iterator is paired together, and then the second item in each passed iterator are paired together etc."
   ]
  },
  {
   "cell_type": "code",
   "execution_count": 10,
   "id": "5945db0b",
   "metadata": {},
   "outputs": [
    {
     "name": "stdout",
     "output_type": "stream",
     "text": [
      "<zip object at 0x7b085d648980>\n"
     ]
    }
   ],
   "source": [
    "a = (\"John\", \"Charles\", \"Mike\")\n",
    "b = (\"Jenny\", \"Christy\", \"Monica\")\n",
    "\n",
    "x = zip(a, b)\n",
    "print(x)"
   ]
  },
  {
   "cell_type": "code",
   "execution_count": null,
   "id": "8cb00971",
   "metadata": {},
   "outputs": [
    {
     "name": "stdout",
     "output_type": "stream",
     "text": [
      "['a', 'b', 'c', 'd', 'e']\n",
      "['a', 'b', 'c', 'd', 'e']\n"
     ]
    }
   ],
   "source": [
    "print([k for k in keys])\n",
    "print(keys)"
   ]
  },
  {
   "cell_type": "code",
   "execution_count": 20,
   "id": "9f3a5027",
   "metadata": {},
   "outputs": [
    {
     "name": "stdout",
     "output_type": "stream",
     "text": [
      "{0: 0, 2: 8, 4: 64, 6: 216, 8: 512}\n"
     ]
    }
   ],
   "source": [
    "# dictionary comprehension using if\n",
    "newdict = {x: x**3 for x in range(10) if x**3 % 4 == 0}\n",
    "print(newdict)"
   ]
  },
  {
   "cell_type": "markdown",
   "id": "124c3969",
   "metadata": {},
   "source": [
    "## Data structures manipulations"
   ]
  },
  {
   "cell_type": "markdown",
   "id": "9328ea9c",
   "metadata": {},
   "source": [
    "Remove duplicates, maintaining order:"
   ]
  },
  {
   "cell_type": "code",
   "execution_count": 40,
   "id": "c3707c23",
   "metadata": {},
   "outputs": [],
   "source": [
    "myList = [1, 2, 3, 6, 4, 1, \"a\", 6, 4, 4, 5, \"a\"]"
   ]
  },
  {
   "cell_type": "code",
   "execution_count": 41,
   "id": "3cd9773e",
   "metadata": {},
   "outputs": [
    {
     "data": {
      "text/plain": [
       "[1, 2, 3, 6, 4, 'a', 5]"
      ]
     },
     "execution_count": 41,
     "metadata": {},
     "output_type": "execute_result"
    }
   ],
   "source": [
    "# first approach, check each value\n",
    "def remove_duplicates(myList):\n",
    "    seen_set = set() # initialize an empty set for the items already seen\n",
    "    result = [] # initialize an empty list for the items to return\n",
    "    for i in myList:\n",
    "        if i not in seen_set:\n",
    "            result.append(i)\n",
    "            seen_set.add(i)\n",
    "    return result\n",
    "remove_duplicates(myList)"
   ]
  },
  {
   "cell_type": "code",
   "execution_count": null,
   "id": "de7546bc",
   "metadata": {},
   "outputs": [
    {
     "data": {
      "text/plain": [
       "[1, 2, 3, 4, 5, 6, 'a']"
      ]
     },
     "execution_count": 42,
     "metadata": {},
     "output_type": "execute_result"
    }
   ],
   "source": [
    "# second approach cast to set then list, but this does not preserve order (reorders them)\n",
    "list(set(myList))"
   ]
  },
  {
   "cell_type": "code",
   "execution_count": null,
   "id": "ed3cd2ad",
   "metadata": {},
   "outputs": [
    {
     "data": {
      "text/plain": [
       "[1, 2, 3, 6, 4, 'a', 5]"
      ]
     },
     "execution_count": 45,
     "metadata": {},
     "output_type": "execute_result"
    }
   ],
   "source": [
    "# third approach, using a dict of counts\n",
    "def removeduplicate(data):\n",
    "    countDict = {}\n",
    "    for element in data:\n",
    "        if element in countDict.keys():\n",
    "            countDict[element] += 1\n",
    "        else:\n",
    "            countDict[element] = 1\n",
    "    return list(countDict.keys())\n",
    "\n",
    "removeduplicate(myList)"
   ]
  },
  {
   "cell_type": "markdown",
   "id": "636fb707",
   "metadata": {},
   "source": [
    "## Sorting, Filtering, Aggregations"
   ]
  },
  {
   "cell_type": "code",
   "execution_count": null,
   "id": "7a38cf1b",
   "metadata": {},
   "outputs": [],
   "source": []
  }
 ],
 "metadata": {
  "kernelspec": {
   "display_name": "1-pythoncoreskills-jFC1dD1O-py3.11",
   "language": "python",
   "name": "python3"
  },
  "language_info": {
   "codemirror_mode": {
    "name": "ipython",
    "version": 3
   },
   "file_extension": ".py",
   "mimetype": "text/x-python",
   "name": "python",
   "nbconvert_exporter": "python",
   "pygments_lexer": "ipython3",
   "version": "3.11.2"
  }
 },
 "nbformat": 4,
 "nbformat_minor": 5
}
