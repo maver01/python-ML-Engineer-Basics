{
 "cells": [
  {
   "cell_type": "code",
   "execution_count": 1,
   "id": "181c0c97",
   "metadata": {},
   "outputs": [
    {
     "name": "stdout",
     "output_type": "stream",
     "text": [
      "hello world\n"
     ]
    }
   ],
   "source": [
    "print(\"hello world\")"
   ]
  },
  {
   "cell_type": "markdown",
   "id": "a4b882df",
   "metadata": {},
   "source": [
    "# Core Skills"
   ]
  },
  {
   "cell_type": "markdown",
   "id": "4f91b370",
   "metadata": {},
   "source": [
    "## Basic data structures"
   ]
  },
  {
   "cell_type": "code",
   "execution_count": 3,
   "id": "360305fd",
   "metadata": {},
   "outputs": [],
   "source": [
    "# List: ordered, mutable\n",
    "fruits = [\"apple\", \"banana\", \"cherry\"]\n",
    "# Tuple, ordered, immutable\n",
    "point = (10, 20, 30, \"apple\")\n",
    "# Set, un-ordered, unique elements\n",
    "unique_numbers = {1, 2, 3}\n",
    "# Dictionary: ley value pairs\n",
    "ages = {\"Alice\": 30, \"Bob\": 25}\n",
    "# Array: all belongs to the same class\n",
    "import array as arr\n",
    " # creating an array with integer type (i)\n",
    "a = arr.array('i', [1, 2, 3])"
   ]
  },
  {
   "cell_type": "markdown",
   "id": "d179b6f9",
   "metadata": {},
   "source": [
    "## Use list/dict comprehensions"
   ]
  },
  {
   "cell_type": "code",
   "execution_count": null,
   "id": "e4d796da",
   "metadata": {},
   "outputs": [],
   "source": [
    "# Lists to represent keys and values\n",
    "keys = ['a','b','c','d','e']\n",
    "values = [1,2,3,4,5]"
   ]
  },
  {
   "cell_type": "code",
   "execution_count": 18,
   "id": "098426ea",
   "metadata": {},
   "outputs": [
    {
     "data": {
      "text/plain": [
       "{'a': 1, 'b': 2, 'c': 3, 'd': 4, 'e': 5}"
      ]
     },
     "execution_count": 18,
     "metadata": {},
     "output_type": "execute_result"
    }
   ],
   "source": [
    "# create dictionary with zip and list comprehension\n",
    "myDict = {k:v for (k, v) in zip(keys, values)}\n",
    "myDict"
   ]
  },
  {
   "cell_type": "code",
   "execution_count": 19,
   "id": "ab1336e4",
   "metadata": {},
   "outputs": [
    {
     "data": {
      "text/plain": [
       "[('a', 1), ('b', 2), ('c', 3), ('d', 4), ('e', 5)]"
      ]
     },
     "execution_count": 19,
     "metadata": {},
     "output_type": "execute_result"
    }
   ],
   "source": [
    "# create list of touples with zip and list comprehension\n",
    "myTouple = [(k,v) for (k, v) in zip(keys, values)]\n",
    "myTouple"
   ]
  },
  {
   "cell_type": "markdown",
   "id": "71cf924f",
   "metadata": {},
   "source": [
    "The zip() function returns a zip object, which is an iterator of tuples where the first item in each passed iterator is paired together, and then the second item in each passed iterator are paired together etc."
   ]
  },
  {
   "cell_type": "code",
   "execution_count": 10,
   "id": "5945db0b",
   "metadata": {},
   "outputs": [
    {
     "name": "stdout",
     "output_type": "stream",
     "text": [
      "<zip object at 0x7b085d648980>\n"
     ]
    }
   ],
   "source": [
    "a = (\"John\", \"Charles\", \"Mike\")\n",
    "b = (\"Jenny\", \"Christy\", \"Monica\")\n",
    "\n",
    "x = zip(a, b)\n",
    "print(x)"
   ]
  },
  {
   "cell_type": "code",
   "execution_count": null,
   "id": "8cb00971",
   "metadata": {},
   "outputs": [
    {
     "name": "stdout",
     "output_type": "stream",
     "text": [
      "['a', 'b', 'c', 'd', 'e']\n",
      "['a', 'b', 'c', 'd', 'e']\n"
     ]
    }
   ],
   "source": [
    "print([k for k in keys])\n",
    "print(keys)"
   ]
  },
  {
   "cell_type": "code",
   "execution_count": 39,
   "id": "9f3a5027",
   "metadata": {},
   "outputs": [
    {
     "name": "stdout",
     "output_type": "stream",
     "text": [
      "{0: 0, 2: 8, 4: 64, 6: 216, 8: 512}\n"
     ]
    }
   ],
   "source": [
    "# dictionary comprehension using if\n",
    "newdict = {x: x**3 for x in range(10) if x**3 % 4 == 0}\n",
    "print(newdict)"
   ]
  },
  {
   "cell_type": "markdown",
   "id": "5dd5d95c",
   "metadata": {},
   "source": [
    "The items() method returns a view object. The view object contains the key-value pairs of the dictionary, as tuples in a list."
   ]
  },
  {
   "cell_type": "code",
   "execution_count": 40,
   "id": "57f31ebe",
   "metadata": {},
   "outputs": [
    {
     "name": "stdout",
     "output_type": "stream",
     "text": [
      "0 0\n",
      "2 8\n",
      "4 64\n",
      "6 216\n",
      "8 512\n"
     ]
    }
   ],
   "source": [
    "for key, val in newdict.items():\n",
    "    print(key, val)"
   ]
  },
  {
   "cell_type": "markdown",
   "id": "124c3969",
   "metadata": {},
   "source": [
    "## Data structures manipulations"
   ]
  },
  {
   "cell_type": "markdown",
   "id": "9328ea9c",
   "metadata": {},
   "source": [
    "Remove duplicates, maintaining order:"
   ]
  },
  {
   "cell_type": "code",
   "execution_count": 40,
   "id": "c3707c23",
   "metadata": {},
   "outputs": [],
   "source": [
    "myList = [1, 2, 3, 6, 4, 1, \"a\", 6, 4, 4, 5, \"a\"]"
   ]
  },
  {
   "cell_type": "code",
   "execution_count": 41,
   "id": "3cd9773e",
   "metadata": {},
   "outputs": [
    {
     "data": {
      "text/plain": [
       "[1, 2, 3, 6, 4, 'a', 5]"
      ]
     },
     "execution_count": 41,
     "metadata": {},
     "output_type": "execute_result"
    }
   ],
   "source": [
    "# first approach, check each value\n",
    "def remove_duplicates(myList):\n",
    "    seen_set = set() # initialize an empty set for the items already seen\n",
    "    result = [] # initialize an empty list for the items to return\n",
    "    for i in myList:\n",
    "        if i not in seen_set:\n",
    "            result.append(i)\n",
    "            seen_set.add(i)\n",
    "    return result\n",
    "remove_duplicates(myList)"
   ]
  },
  {
   "cell_type": "code",
   "execution_count": null,
   "id": "de7546bc",
   "metadata": {},
   "outputs": [
    {
     "data": {
      "text/plain": [
       "[1, 2, 3, 4, 5, 6, 'a']"
      ]
     },
     "execution_count": 42,
     "metadata": {},
     "output_type": "execute_result"
    }
   ],
   "source": [
    "# second approach cast to set then list, but this does not preserve order (reorders them)\n",
    "list(set(myList))"
   ]
  },
  {
   "cell_type": "code",
   "execution_count": null,
   "id": "ed3cd2ad",
   "metadata": {},
   "outputs": [
    {
     "data": {
      "text/plain": [
       "[1, 2, 3, 6, 4, 'a', 5]"
      ]
     },
     "execution_count": 45,
     "metadata": {},
     "output_type": "execute_result"
    }
   ],
   "source": [
    "# third approach, using a dict of counts\n",
    "def removeduplicate(data):\n",
    "    countDict = {}\n",
    "    for element in data:\n",
    "        if element in countDict.keys():\n",
    "            countDict[element] += 1\n",
    "        else:\n",
    "            countDict[element] = 1\n",
    "    return list(countDict.keys())\n",
    "\n",
    "removeduplicate(myList)"
   ]
  },
  {
   "cell_type": "markdown",
   "id": "636fb707",
   "metadata": {},
   "source": [
    "## Sorting, Filtering, Aggregations"
   ]
  },
  {
   "cell_type": "code",
   "execution_count": 6,
   "id": "7a38cf1b",
   "metadata": {},
   "outputs": [
    {
     "name": "stdout",
     "output_type": "stream",
     "text": [
      "[1, 2, 5, 9]\n"
     ]
    }
   ],
   "source": [
    "nums = [5, 2, 9, 1]\n",
    "sorted_nums = sorted(nums)\n",
    "print(sorted_nums)"
   ]
  },
  {
   "cell_type": "code",
   "execution_count": 14,
   "id": "61d02ac5",
   "metadata": {},
   "outputs": [
    {
     "data": {
      "text/plain": [
       "[{'name': 'Bob', 'age': 25},\n",
       " {'name': 'Alice', 'age': 30},\n",
       " {'name': 'Charlie', 'age': 35}]"
      ]
     },
     "execution_count": 14,
     "metadata": {},
     "output_type": "execute_result"
    }
   ],
   "source": [
    "myDict = [\n",
    "    {\"name\": \"Alice\", \"age\": 30},\n",
    "    {\"name\": \"Bob\", \"age\": 25},\n",
    "    {\"name\": \"Charlie\", \"age\": 35}\n",
    "]\n",
    "\n",
    "# Sort by age\n",
    "sorted(myDict, key=lambda x: x[\"age\"])"
   ]
  },
  {
   "cell_type": "code",
   "execution_count": 15,
   "id": "3953b61f",
   "metadata": {},
   "outputs": [
    {
     "data": {
      "text/plain": [
       "[{'name': 'Charlie', 'age': 35},\n",
       " {'name': 'Alice', 'age': 30},\n",
       " {'name': 'Bob', 'age': 25}]"
      ]
     },
     "execution_count": 15,
     "metadata": {},
     "output_type": "execute_result"
    }
   ],
   "source": [
    "sorted(myDict, key=lambda x: -x[\"age\"])"
   ]
  },
  {
   "cell_type": "code",
   "execution_count": 19,
   "id": "92a93c37",
   "metadata": {},
   "outputs": [
    {
     "data": {
      "text/plain": [
       "Counter({1: 2, 5: 1, 2: 1, 9: 1})"
      ]
     },
     "execution_count": 19,
     "metadata": {},
     "output_type": "execute_result"
    }
   ],
   "source": [
    "# Count elements\n",
    "from collections import Counter\n",
    "Counter([5, 2, 9, 1, 1])"
   ]
  },
  {
   "cell_type": "code",
   "execution_count": 45,
   "id": "fd2d357e",
   "metadata": {},
   "outputs": [],
   "source": [
    "dict1 = {\n",
    "    \"key3\": \"string_val3\"\n",
    "}\n",
    "dict2 = {\n",
    "    \"key3\": \"string_val3\",\n",
    "    \"key1\": \"string_val1\",\n",
    "    \"key2\": \"string_val2\",\n",
    "}"
   ]
  },
  {
   "cell_type": "code",
   "execution_count": 46,
   "id": "be759c7d",
   "metadata": {},
   "outputs": [
    {
     "data": {
      "text/plain": [
       "{'key3': 'string_val3', 'key1': 'string_val1', 'key2': 'string_val2'}"
      ]
     },
     "execution_count": 46,
     "metadata": {},
     "output_type": "execute_result"
    }
   ],
   "source": [
    "dict2"
   ]
  },
  {
   "cell_type": "code",
   "execution_count": 48,
   "id": "af322cc6",
   "metadata": {},
   "outputs": [],
   "source": [
    "for key, val in dict2.items():\n",
    "    if key not in dict1.keys():\n",
    "        dict1[key] = val"
   ]
  },
  {
   "cell_type": "code",
   "execution_count": 49,
   "id": "9763a447",
   "metadata": {},
   "outputs": [
    {
     "data": {
      "text/plain": [
       "{'key3': 'string_val3', 'key1': 'string_val1', 'key2': 'string_val2'}"
      ]
     },
     "execution_count": 49,
     "metadata": {},
     "output_type": "execute_result"
    }
   ],
   "source": [
    "dict1"
   ]
  },
  {
   "cell_type": "markdown",
   "id": "66300e54",
   "metadata": {},
   "source": [
    "## Lambda"
   ]
  },
  {
   "cell_type": "markdown",
   "id": "ce6febe4",
   "metadata": {},
   "source": [
    "A lambda is a small, anonymous function defined with the lambda keyword, rather than def.\n",
    "\n",
    "```lambda arguments: expression```"
   ]
  },
  {
   "cell_type": "code",
   "execution_count": 20,
   "id": "7713b34e",
   "metadata": {},
   "outputs": [
    {
     "name": "stdout",
     "output_type": "stream",
     "text": [
      "7\n"
     ]
    }
   ],
   "source": [
    "add = lambda x, y: x + y\n",
    "\n",
    "print(add(3, 4))  # Output: 7"
   ]
  },
  {
   "cell_type": "code",
   "execution_count": 22,
   "id": "d9253e9c",
   "metadata": {},
   "outputs": [
    {
     "data": {
      "text/plain": [
       "[2, 4, 6]"
      ]
     },
     "execution_count": 22,
     "metadata": {},
     "output_type": "execute_result"
    }
   ],
   "source": [
    "nums = [1, 2, 3, 4, 5, 6]\n",
    "list(filter(lambda x: x % 2 == 0, nums))"
   ]
  },
  {
   "cell_type": "markdown",
   "id": "df466d81",
   "metadata": {},
   "source": [
    "## Exceptions"
   ]
  },
  {
   "cell_type": "code",
   "execution_count": 25,
   "id": "a3b41d6c",
   "metadata": {},
   "outputs": [
    {
     "name": "stdout",
     "output_type": "stream",
     "text": [
      "Error: Invalid input; please enter a number.\n"
     ]
    }
   ],
   "source": [
    "try:\n",
    "    x = int(input(\"Enter a number: \"))\n",
    "    result = 10 / x\n",
    "    print(\"Result:\", result)\n",
    "except ZeroDivisionError:\n",
    "    print(\"Error: Cannot divide by zero.\")\n",
    "except ValueError:\n",
    "    print(\"Error: Invalid input; please enter a number.\")"
   ]
  },
  {
   "cell_type": "code",
   "execution_count": 26,
   "id": "cb03731e",
   "metadata": {},
   "outputs": [],
   "source": [
    "def do_something():\n",
    "    return\n",
    "\n",
    "try:\n",
    "    do_something()\n",
    "except Exception as e:\n",
    "    print(\"An error occurred:\", e)"
   ]
  },
  {
   "cell_type": "code",
   "execution_count": null,
   "id": "a935c034",
   "metadata": {},
   "outputs": [
    {
     "name": "stdout",
     "output_type": "stream",
     "text": [
      "File not found.\n",
      "All good.\n"
     ]
    }
   ],
   "source": [
    "try:\n",
    "    f = open(\"myfile.txt\", \"r\")\n",
    "    data = f.read()\n",
    "except FileNotFoundError:\n",
    "    print(\"File not found.\")\n",
    "else:\n",
    "    print(\"File read successfully.\")\n",
    "    f.close()\n",
    "finally:\n",
    "    print(\"All good.\")\n"
   ]
  },
  {
   "cell_type": "code",
   "execution_count": 30,
   "id": "4951a2a2",
   "metadata": {},
   "outputs": [
    {
     "name": "stdout",
     "output_type": "stream",
     "text": [
      "Caught custom error: Something went wrong!\n"
     ]
    }
   ],
   "source": [
    "class MyCustomError(Exception):\n",
    "    pass\n",
    "\n",
    "def do_something():\n",
    "    raise MyCustomError(\"Something went wrong!\")\n",
    "\n",
    "try:\n",
    "    do_something()\n",
    "except MyCustomError as e:\n",
    "    print(\"Caught custom error:\", e)"
   ]
  }
 ],
 "metadata": {
  "kernelspec": {
   "display_name": "1-pythoncoreskills-jFC1dD1O-py3.11",
   "language": "python",
   "name": "python3"
  },
  "language_info": {
   "codemirror_mode": {
    "name": "ipython",
    "version": 3
   },
   "file_extension": ".py",
   "mimetype": "text/x-python",
   "name": "python",
   "nbconvert_exporter": "python",
   "pygments_lexer": "ipython3",
   "version": "3.11.2"
  }
 },
 "nbformat": 4,
 "nbformat_minor": 5
}
