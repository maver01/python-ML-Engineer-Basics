{
 "cells": [
  {
   "cell_type": "code",
   "execution_count": null,
   "id": "704348c8",
   "metadata": {},
   "outputs": [],
   "source": [
    "import torch\n",
    "import torch.nn as nn\n",
    "\n",
    "# Dummy input: batch of sequences\n",
    "# For illustration, assume vocab_size = 10\n",
    "batch_size = 2\n",
    "seq_len = 5\n",
    "vocab_size = 10\n",
    "embedding_dim = 8\n",
    "hidden_dim = 16\n",
    "num_classes = 3\n",
    "\n",
    "# Random input: integers 0-9\n",
    "x = torch.randint(0, vocab_size, (batch_size, seq_len))\n",
    "\n",
    "# Model\n",
    "class SimpleRNNClassifier(nn.Module):\n",
    "    def __init__(self, vocab_size, embedding_dim, hidden_dim, num_classes):\n",
    "        super(SimpleRNNClassifier, self).__init__()\n",
    "        self.embedding = nn.Embedding(vocab_size, embedding_dim) # Converts each token (0–9) into an 8D vector.\n",
    "        self.rnn = nn.RNN(input_size=embedding_dim, hidden_size=hidden_dim, batch_first=True) # Iterates step by step over the sequence, upadting hidden state\n",
    "        self.fc = nn.Linear(hidden_dim, num_classes) # fully connected\n",
    "\n",
    "    def forward(self, x):\n",
    "        embedded = self.embedding(x)                # Shape: (batch, seq_len, embedding_dim)\n",
    "        output, hidden = self.rnn(embedded)         # output: all timesteps, hidden: last hidden state\n",
    "        out = self.fc(hidden.squeeze(0))            # hidden: (1, batch, hidden_dim)\n",
    "        return out\n",
    "\n",
    "model = SimpleRNNClassifier(vocab_size, embedding_dim, hidden_dim, num_classes)\n",
    "\n",
    "# Forward pass\n",
    "logits = model(x)\n",
    "print(\"Logits:\", logits.shape)  # (batch_size, num_classes)\n"
   ]
  }
 ],
 "metadata": {
  "language_info": {
   "name": "python"
  }
 },
 "nbformat": 4,
 "nbformat_minor": 5
}
