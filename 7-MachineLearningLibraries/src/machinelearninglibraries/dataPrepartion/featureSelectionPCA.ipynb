{
 "cells": [
  {
   "cell_type": "markdown",
   "id": "5c6a69cb",
   "metadata": {},
   "source": [
    "# Feature Selection and PCA"
   ]
  },
  {
   "cell_type": "code",
   "execution_count": 2,
   "id": "e6ffbcc3",
   "metadata": {},
   "outputs": [],
   "source": [
    "import pandas as pd\n",
    "import numpy as np\n",
    "import seaborn as sns\n",
    "import matplotlib.pyplot as plt\n",
    "from scipy.stats import chi2_contingency"
   ]
  },
  {
   "cell_type": "code",
   "execution_count": 32,
   "id": "cf3cd3d4",
   "metadata": {},
   "outputs": [
    {
     "data": {
      "application/vnd.microsoft.datawrangler.viewer.v0+json": {
       "columns": [
        {
         "name": "index",
         "rawType": "int64",
         "type": "integer"
        },
        {
         "name": "age",
         "rawType": "int64",
         "type": "integer"
        },
        {
         "name": "income",
         "rawType": "int64",
         "type": "integer"
        },
        {
         "name": "purchases",
         "rawType": "int64",
         "type": "integer"
        },
        {
         "name": "gender",
         "rawType": "object",
         "type": "string"
        },
        {
         "name": "membership",
         "rawType": "object",
         "type": "string"
        }
       ],
       "ref": "ebfd3373-4004-4d82-a20e-07f611747935",
       "rows": [
        [
         "0",
         "25",
         "50000",
         "5",
         "F",
         "Silver"
        ],
        [
         "1",
         "30",
         "60000",
         "7",
         "M",
         "Gold"
        ],
        [
         "2",
         "45",
         "80000",
         "8",
         "M",
         "Gold"
        ],
        [
         "3",
         "35",
         "75000",
         "6",
         "F",
         "Silver"
        ],
        [
         "4",
         "23",
         "52000",
         "5",
         "F",
         "Silver"
        ],
        [
         "5",
         "40",
         "90000",
         "9",
         "M",
         "Gold"
        ],
        [
         "6",
         "50",
         "120000",
         "12",
         "M",
         "Gold"
        ],
        [
         "7",
         "60",
         "150000",
         "15",
         "F",
         "Silver"
        ]
       ],
       "shape": {
        "columns": 5,
        "rows": 8
       }
      },
      "text/html": [
       "<div>\n",
       "<style scoped>\n",
       "    .dataframe tbody tr th:only-of-type {\n",
       "        vertical-align: middle;\n",
       "    }\n",
       "\n",
       "    .dataframe tbody tr th {\n",
       "        vertical-align: top;\n",
       "    }\n",
       "\n",
       "    .dataframe thead th {\n",
       "        text-align: right;\n",
       "    }\n",
       "</style>\n",
       "<table border=\"1\" class=\"dataframe\">\n",
       "  <thead>\n",
       "    <tr style=\"text-align: right;\">\n",
       "      <th></th>\n",
       "      <th>age</th>\n",
       "      <th>income</th>\n",
       "      <th>purchases</th>\n",
       "      <th>gender</th>\n",
       "      <th>membership</th>\n",
       "    </tr>\n",
       "  </thead>\n",
       "  <tbody>\n",
       "    <tr>\n",
       "      <th>0</th>\n",
       "      <td>25</td>\n",
       "      <td>50000</td>\n",
       "      <td>5</td>\n",
       "      <td>F</td>\n",
       "      <td>Silver</td>\n",
       "    </tr>\n",
       "    <tr>\n",
       "      <th>1</th>\n",
       "      <td>30</td>\n",
       "      <td>60000</td>\n",
       "      <td>7</td>\n",
       "      <td>M</td>\n",
       "      <td>Gold</td>\n",
       "    </tr>\n",
       "    <tr>\n",
       "      <th>2</th>\n",
       "      <td>45</td>\n",
       "      <td>80000</td>\n",
       "      <td>8</td>\n",
       "      <td>M</td>\n",
       "      <td>Gold</td>\n",
       "    </tr>\n",
       "    <tr>\n",
       "      <th>3</th>\n",
       "      <td>35</td>\n",
       "      <td>75000</td>\n",
       "      <td>6</td>\n",
       "      <td>F</td>\n",
       "      <td>Silver</td>\n",
       "    </tr>\n",
       "    <tr>\n",
       "      <th>4</th>\n",
       "      <td>23</td>\n",
       "      <td>52000</td>\n",
       "      <td>5</td>\n",
       "      <td>F</td>\n",
       "      <td>Silver</td>\n",
       "    </tr>\n",
       "    <tr>\n",
       "      <th>5</th>\n",
       "      <td>40</td>\n",
       "      <td>90000</td>\n",
       "      <td>9</td>\n",
       "      <td>M</td>\n",
       "      <td>Gold</td>\n",
       "    </tr>\n",
       "    <tr>\n",
       "      <th>6</th>\n",
       "      <td>50</td>\n",
       "      <td>120000</td>\n",
       "      <td>12</td>\n",
       "      <td>M</td>\n",
       "      <td>Gold</td>\n",
       "    </tr>\n",
       "    <tr>\n",
       "      <th>7</th>\n",
       "      <td>60</td>\n",
       "      <td>150000</td>\n",
       "      <td>15</td>\n",
       "      <td>F</td>\n",
       "      <td>Silver</td>\n",
       "    </tr>\n",
       "  </tbody>\n",
       "</table>\n",
       "</div>"
      ],
      "text/plain": [
       "   age  income  purchases gender membership\n",
       "0   25   50000          5      F     Silver\n",
       "1   30   60000          7      M       Gold\n",
       "2   45   80000          8      M       Gold\n",
       "3   35   75000          6      F     Silver\n",
       "4   23   52000          5      F     Silver\n",
       "5   40   90000          9      M       Gold\n",
       "6   50  120000         12      M       Gold\n",
       "7   60  150000         15      F     Silver"
      ]
     },
     "execution_count": 32,
     "metadata": {},
     "output_type": "execute_result"
    }
   ],
   "source": [
    "# Sample DataFrame\n",
    "data = {\n",
    "    'age': [25, 30, 45, 35, 23, 40, 50, 60],\n",
    "    'income': [50000, 60000, 80000, 75000, 52000, 90000, 120000, 150000],\n",
    "    'purchases': [5, 7, 8, 6, 5, 9, 12, 15],\n",
    "    'gender': ['F', 'M', 'M', 'F', 'F', 'M', 'M', 'F'],\n",
    "    'membership': ['Silver', 'Gold', 'Gold', 'Silver', 'Silver', 'Gold', 'Gold', 'Silver']\n",
    "}\n",
    "\n",
    "df = pd.DataFrame(data)\n",
    "df"
   ]
  },
  {
   "cell_type": "code",
   "execution_count": 51,
   "id": "5553cf0d",
   "metadata": {},
   "outputs": [
    {
     "data": {
      "application/vnd.microsoft.datawrangler.viewer.v0+json": {
       "columns": [
        {
         "name": "index",
         "rawType": "int64",
         "type": "integer"
        },
        {
         "name": "age",
         "rawType": "int64",
         "type": "integer"
        },
        {
         "name": "income",
         "rawType": "int64",
         "type": "integer"
        },
        {
         "name": "purchases",
         "rawType": "int64",
         "type": "integer"
        },
        {
         "name": "gender",
         "rawType": "int64",
         "type": "integer"
        },
        {
         "name": "membership",
         "rawType": "int64",
         "type": "integer"
        }
       ],
       "ref": "33516f85-3b86-485c-93cf-0d29c81cfc45",
       "rows": [
        [
         "0",
         "25",
         "50000",
         "5",
         "0",
         "1"
        ],
        [
         "1",
         "30",
         "60000",
         "7",
         "1",
         "0"
        ],
        [
         "2",
         "45",
         "80000",
         "8",
         "1",
         "0"
        ],
        [
         "3",
         "35",
         "75000",
         "6",
         "0",
         "1"
        ],
        [
         "4",
         "23",
         "52000",
         "5",
         "0",
         "1"
        ],
        [
         "5",
         "40",
         "90000",
         "9",
         "1",
         "0"
        ],
        [
         "6",
         "50",
         "120000",
         "12",
         "1",
         "0"
        ],
        [
         "7",
         "60",
         "150000",
         "15",
         "0",
         "1"
        ]
       ],
       "shape": {
        "columns": 5,
        "rows": 8
       }
      },
      "text/html": [
       "<div>\n",
       "<style scoped>\n",
       "    .dataframe tbody tr th:only-of-type {\n",
       "        vertical-align: middle;\n",
       "    }\n",
       "\n",
       "    .dataframe tbody tr th {\n",
       "        vertical-align: top;\n",
       "    }\n",
       "\n",
       "    .dataframe thead th {\n",
       "        text-align: right;\n",
       "    }\n",
       "</style>\n",
       "<table border=\"1\" class=\"dataframe\">\n",
       "  <thead>\n",
       "    <tr style=\"text-align: right;\">\n",
       "      <th></th>\n",
       "      <th>age</th>\n",
       "      <th>income</th>\n",
       "      <th>purchases</th>\n",
       "      <th>gender</th>\n",
       "      <th>membership</th>\n",
       "    </tr>\n",
       "  </thead>\n",
       "  <tbody>\n",
       "    <tr>\n",
       "      <th>0</th>\n",
       "      <td>25</td>\n",
       "      <td>50000</td>\n",
       "      <td>5</td>\n",
       "      <td>0</td>\n",
       "      <td>1</td>\n",
       "    </tr>\n",
       "    <tr>\n",
       "      <th>1</th>\n",
       "      <td>30</td>\n",
       "      <td>60000</td>\n",
       "      <td>7</td>\n",
       "      <td>1</td>\n",
       "      <td>0</td>\n",
       "    </tr>\n",
       "    <tr>\n",
       "      <th>2</th>\n",
       "      <td>45</td>\n",
       "      <td>80000</td>\n",
       "      <td>8</td>\n",
       "      <td>1</td>\n",
       "      <td>0</td>\n",
       "    </tr>\n",
       "    <tr>\n",
       "      <th>3</th>\n",
       "      <td>35</td>\n",
       "      <td>75000</td>\n",
       "      <td>6</td>\n",
       "      <td>0</td>\n",
       "      <td>1</td>\n",
       "    </tr>\n",
       "    <tr>\n",
       "      <th>4</th>\n",
       "      <td>23</td>\n",
       "      <td>52000</td>\n",
       "      <td>5</td>\n",
       "      <td>0</td>\n",
       "      <td>1</td>\n",
       "    </tr>\n",
       "    <tr>\n",
       "      <th>5</th>\n",
       "      <td>40</td>\n",
       "      <td>90000</td>\n",
       "      <td>9</td>\n",
       "      <td>1</td>\n",
       "      <td>0</td>\n",
       "    </tr>\n",
       "    <tr>\n",
       "      <th>6</th>\n",
       "      <td>50</td>\n",
       "      <td>120000</td>\n",
       "      <td>12</td>\n",
       "      <td>1</td>\n",
       "      <td>0</td>\n",
       "    </tr>\n",
       "    <tr>\n",
       "      <th>7</th>\n",
       "      <td>60</td>\n",
       "      <td>150000</td>\n",
       "      <td>15</td>\n",
       "      <td>0</td>\n",
       "      <td>1</td>\n",
       "    </tr>\n",
       "  </tbody>\n",
       "</table>\n",
       "</div>"
      ],
      "text/plain": [
       "   age  income  purchases  gender  membership\n",
       "0   25   50000          5       0           1\n",
       "1   30   60000          7       1           0\n",
       "2   45   80000          8       1           0\n",
       "3   35   75000          6       0           1\n",
       "4   23   52000          5       0           1\n",
       "5   40   90000          9       1           0\n",
       "6   50  120000         12       1           0\n",
       "7   60  150000         15       0           1"
      ]
     },
     "execution_count": 51,
     "metadata": {},
     "output_type": "execute_result"
    }
   ],
   "source": [
    "from sklearn.preprocessing import LabelEncoder\n",
    "\n",
    "categorical_columns = ['gender', 'membership']\n",
    "encoder = LabelEncoder()\n",
    "for cat in categorical_columns:\n",
    "    df[cat] = encoder.fit_transform(df[cat])\n",
    "df"
   ]
  },
  {
   "cell_type": "code",
   "execution_count": 55,
   "id": "4c7f34b2",
   "metadata": {},
   "outputs": [
    {
     "name": "stdout",
     "output_type": "stream",
     "text": [
      "Correlation matrix:\n",
      "                 age    income  purchases    gender  membership\n",
      "age         1.000000  0.961156   0.946934  0.229766   -0.229766\n",
      "income      0.961156  1.000000   0.981466  0.088005   -0.088005\n",
      "purchases   0.946934  0.981466   1.000000  0.188579   -0.188579\n",
      "gender      0.229766  0.088005   0.188579  1.000000   -1.000000\n",
      "membership -0.229766 -0.088005  -0.188579 -1.000000    1.000000\n"
     ]
    },
    {
     "data": {
      "image/png": "[encoded data removed]",
      "text/plain": [
       "<Figure size 600x400 with 2 Axes>"
      ]
     },
     "metadata": {},
     "output_type": "display_data"
    }
   ],
   "source": [
    "# ===========================================\n",
    "# Pearson Correlation between numeric columns\n",
    "# ===========================================\n",
    "correlation_matrix = df.corr(numeric_only=True)\n",
    "print(\"Correlation matrix:\")\n",
    "print(correlation_matrix)\n",
    "\n",
    "# Optional: heatmap visualization\n",
    "plt.figure(figsize=(6, 4))\n",
    "sns.heatmap(correlation_matrix, annot=True, cmap='coolwarm')\n",
    "plt.title('Correlation Matrix')\n",
    "plt.tight_layout()\n",
    "plt.show()"
   ]
  },
  {
   "cell_type": "code",
   "execution_count": 56,
   "id": "057784d1",
   "metadata": {},
   "outputs": [
    {
     "name": "stdout",
     "output_type": "stream",
     "text": [
      "\n",
      "Contingency Table (gender vs membership):\n",
      "membership  0  1\n",
      "gender          \n",
      "0           0  4\n",
      "1           4  0\n",
      "\n",
      "Chi-squared Test Results:\n",
      "Chi2 Statistic = 4.5000\n",
      "Degrees of Freedom = 1\n",
      "P-value = 0.0339\n",
      "Expected Frequencies:\n",
      "[[2. 2.]\n",
      " [2. 2.]]\n"
     ]
    }
   ],
   "source": [
    "\n",
    "# ===========================================\n",
    "# Chi-squared test of independence\n",
    "# Example: gender vs membership\n",
    "# ===========================================\n",
    "contingency_table = pd.crosstab(df['gender'], df['membership'])\n",
    "print(\"\\nContingency Table (gender vs membership):\")\n",
    "print(contingency_table)\n",
    "\n",
    "chi2, p, dof, expected = chi2_contingency(contingency_table)\n",
    "\n",
    "print(\"\\nChi-squared Test Results:\")\n",
    "print(f\"Chi2 Statistic = {chi2:.4f}\")\n",
    "print(f\"Degrees of Freedom = {dof}\")\n",
    "print(f\"P-value = {p:.4f}\")\n",
    "print(\"Expected Frequencies:\")\n",
    "print(expected)\n"
   ]
  },
  {
   "cell_type": "code",
   "execution_count": 1,
   "id": "6ef1f3e1",
   "metadata": {},
   "outputs": [],
   "source": [
    "import pandas as pd\n",
    "from sklearn.preprocessing import LabelEncoder\n",
    "from sklearn.decomposition import PCA"
   ]
  },
  {
   "cell_type": "code",
   "execution_count": null,
   "id": "0c97189c",
   "metadata": {},
   "outputs": [
    {
     "name": "stdout",
     "output_type": "stream",
     "text": [
      "           PC1        PC2\n",
      "0 -4250.006956  -4.173884\n",
      "1  5749.998103  -4.961568\n",
      "2   750.011750  10.448204\n",
      "3 -2250.002898  -1.312752\n"
     ]
    }
   ],
   "source": [
    "# Example DataFrame\n",
    "df = pd.DataFrame({\n",
    "    'gender': ['Male', 'Female', 'Female', 'Male'],\n",
    "    'membership': ['Gold', 'Silver', 'Gold', 'Bronze'],\n",
    "    'age': [25, 35, 45, 30],\n",
    "    'income': [50000, 60000, 55000, 52000]\n",
    "})\n",
    "\n",
    "# Encode categorical columns\n",
    "categorical_columns = ['gender', 'membership']\n",
    "encoders = {}\n",
    "\n",
    "for col in categorical_columns:\n",
    "    le = LabelEncoder()\n",
    "    df[col] = le.fit_transform(df[col])\n",
    "    encoders[col] = le\n",
    "\n",
    "# Prepare features for PCA (all numeric now)\n",
    "X = df.values\n",
    "\n",
    "# Apply PCA\n",
    "# For example, reduce to 2 components\n",
    "pca = PCA(n_components=2)\n",
    "X_pca = pca.fit_transform(X)\n",
    "\n",
    "# Create a DataFrame with PCA results\n",
    "df_pca = pd.DataFrame(X_pca, columns=['PC1', 'PC2'])\n",
    "\n",
    "print(df_pca)\n"
   ]
  },
  {
   "cell_type": "code",
   "execution_count": null,
   "id": "77cefd9e",
   "metadata": {},
   "outputs": [],
   "source": []
  }
 ],
 "metadata": {
  "kernelspec": {
   "display_name": "7-machinelearninglibraries-HMhgkURg-py3.11",
   "language": "python",
   "name": "python3"
  },
  "language_info": {
   "codemirror_mode": {
    "name": "ipython",
    "version": 3
   },
   "file_extension": ".py",
   "mimetype": "text/x-python",
   "name": "python",
   "nbconvert_exporter": "python",
   "pygments_lexer": "ipython3",
   "version": "3.11.2"
  }
 },
 "nbformat": 4,
 "nbformat_minor": 5
}
