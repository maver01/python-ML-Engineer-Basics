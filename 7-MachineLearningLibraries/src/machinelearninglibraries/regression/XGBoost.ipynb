{
 "cells": [
  {
   "cell_type": "markdown",
   "id": "9083023f",
   "metadata": {},
   "source": [
    "# XGBoost"
   ]
  },
  {
   "cell_type": "code",
   "execution_count": 8,
   "id": "c731873b",
   "metadata": {},
   "outputs": [],
   "source": [
    "import xgboost as xgb\n",
    "from sklearn.datasets import fetch_california_housing\n",
    "from sklearn.model_selection import train_test_split\n",
    "from sklearn.metrics import root_mean_squared_error, r2_score"
   ]
  },
  {
   "cell_type": "code",
   "execution_count": 4,
   "id": "fd6f45b7",
   "metadata": {},
   "outputs": [],
   "source": [
    "# 1. Load data\n",
    "data = fetch_california_housing()\n",
    "X, y = data.data, data.target\n",
    "\n",
    "# 2. Split train/test\n",
    "X_train, X_test, y_train, y_test = train_test_split(X, y, test_size=0.2, random_state=42)"
   ]
  },
  {
   "cell_type": "code",
   "execution_count": 5,
   "id": "7f2cb4ac",
   "metadata": {},
   "outputs": [],
   "source": [
    "# 3. Create DMatrix (optional but recommended for XGBoost API)\n",
    "dtrain = xgb.DMatrix(X_train, label=y_train)\n",
    "dtest = xgb.DMatrix(X_test, label=y_test)"
   ]
  },
  {
   "cell_type": "code",
   "execution_count": 7,
   "id": "b3f87125",
   "metadata": {},
   "outputs": [
    {
     "name": "stdout",
     "output_type": "stream",
     "text": [
      "[0]\ttest-rmse:1.07228\n",
      "[1]\ttest-rmse:1.00727\n",
      "[2]\ttest-rmse:0.95105\n",
      "[3]\ttest-rmse:0.90250\n",
      "[4]\ttest-rmse:0.86010\n",
      "[5]\ttest-rmse:0.82211\n",
      "[6]\ttest-rmse:0.78764\n",
      "[7]\ttest-rmse:0.75983\n",
      "[8]\ttest-rmse:0.73443\n",
      "[9]\ttest-rmse:0.71270\n",
      "[10]\ttest-rmse:0.69252\n",
      "[11]\ttest-rmse:0.67598\n",
      "[12]\ttest-rmse:0.66072\n",
      "[13]\ttest-rmse:0.64712\n",
      "[14]\ttest-rmse:0.63344\n",
      "[15]\ttest-rmse:0.62444\n",
      "[16]\ttest-rmse:0.61445\n",
      "[17]\ttest-rmse:0.60576\n",
      "[18]\ttest-rmse:0.59883\n",
      "[19]\ttest-rmse:0.59342\n",
      "[20]\ttest-rmse:0.58760\n",
      "[21]\ttest-rmse:0.58172\n",
      "[22]\ttest-rmse:0.57635\n",
      "[23]\ttest-rmse:0.57233\n",
      "[24]\ttest-rmse:0.56739\n",
      "[25]\ttest-rmse:0.56162\n",
      "[26]\ttest-rmse:0.55871\n",
      "[27]\ttest-rmse:0.55625\n",
      "[28]\ttest-rmse:0.55006\n",
      "[29]\ttest-rmse:0.54704\n",
      "[30]\ttest-rmse:0.54267\n",
      "[31]\ttest-rmse:0.53846\n",
      "[32]\ttest-rmse:0.53508\n",
      "[33]\ttest-rmse:0.53043\n",
      "[34]\ttest-rmse:0.52832\n",
      "[35]\ttest-rmse:0.52664\n",
      "[36]\ttest-rmse:0.52229\n",
      "[37]\ttest-rmse:0.52088\n",
      "[38]\ttest-rmse:0.51801\n",
      "[39]\ttest-rmse:0.51693\n",
      "[40]\ttest-rmse:0.51444\n",
      "[41]\ttest-rmse:0.51180\n",
      "[42]\ttest-rmse:0.51084\n",
      "[43]\ttest-rmse:0.51007\n",
      "[44]\ttest-rmse:0.50844\n",
      "[45]\ttest-rmse:0.50766\n",
      "[46]\ttest-rmse:0.50720\n",
      "[47]\ttest-rmse:0.50637\n",
      "[48]\ttest-rmse:0.50564\n",
      "[49]\ttest-rmse:0.50476\n",
      "[50]\ttest-rmse:0.50369\n",
      "[51]\ttest-rmse:0.50230\n",
      "[52]\ttest-rmse:0.50215\n",
      "[53]\ttest-rmse:0.50146\n",
      "[54]\ttest-rmse:0.50044\n",
      "[55]\ttest-rmse:0.49996\n",
      "[56]\ttest-rmse:0.49954\n",
      "[57]\ttest-rmse:0.49891\n",
      "[58]\ttest-rmse:0.49865\n",
      "[59]\ttest-rmse:0.49787\n",
      "[60]\ttest-rmse:0.49680\n",
      "[61]\ttest-rmse:0.49525\n",
      "[62]\ttest-rmse:0.49432\n",
      "[63]\ttest-rmse:0.49411\n",
      "[64]\ttest-rmse:0.49298\n",
      "[65]\ttest-rmse:0.49136\n",
      "[66]\ttest-rmse:0.49089\n",
      "[67]\ttest-rmse:0.49034\n",
      "[68]\ttest-rmse:0.48907\n",
      "[69]\ttest-rmse:0.48898\n",
      "[70]\ttest-rmse:0.48815\n",
      "[71]\ttest-rmse:0.48766\n",
      "[72]\ttest-rmse:0.48725\n",
      "[73]\ttest-rmse:0.48682\n",
      "[74]\ttest-rmse:0.48581\n",
      "[75]\ttest-rmse:0.48545\n",
      "[76]\ttest-rmse:0.48525\n",
      "[77]\ttest-rmse:0.48464\n",
      "[78]\ttest-rmse:0.48394\n",
      "[79]\ttest-rmse:0.48389\n",
      "[80]\ttest-rmse:0.48381\n",
      "[81]\ttest-rmse:0.48327\n",
      "[82]\ttest-rmse:0.48336\n",
      "[83]\ttest-rmse:0.48216\n",
      "[84]\ttest-rmse:0.48160\n",
      "[85]\ttest-rmse:0.48094\n",
      "[86]\ttest-rmse:0.48064\n",
      "[87]\ttest-rmse:0.48034\n",
      "[88]\ttest-rmse:0.48014\n",
      "[89]\ttest-rmse:0.48000\n",
      "[90]\ttest-rmse:0.47944\n",
      "[91]\ttest-rmse:0.47917\n",
      "[92]\ttest-rmse:0.47858\n",
      "[93]\ttest-rmse:0.47857\n",
      "[94]\ttest-rmse:0.47796\n",
      "[95]\ttest-rmse:0.47760\n",
      "[96]\ttest-rmse:0.47731\n",
      "[97]\ttest-rmse:0.47705\n",
      "[98]\ttest-rmse:0.47678\n",
      "[99]\ttest-rmse:0.47672\n"
     ]
    }
   ],
   "source": [
    "# 4. Set parameters for regression\n",
    "params = {\n",
    "    'objective': 'reg:squarederror',\n",
    "    'eval_metric': 'rmse',\n",
    "    'seed': 42,\n",
    "    'max_depth': 6,\n",
    "    'eta': 0.1\n",
    "}\n",
    "\n",
    "# 5. Train the model\n",
    "model = xgb.train(params, dtrain, num_boost_round=100, evals=[(dtest, 'test')], early_stopping_rounds=10)\n",
    "\n",
    "# 6. Predict on test set\n",
    "y_pred = model.predict(dtest)"
   ]
  },
  {
   "cell_type": "code",
   "execution_count": 9,
   "id": "a48679ae",
   "metadata": {},
   "outputs": [
    {
     "name": "stdout",
     "output_type": "stream",
     "text": [
      "RMSE: 0.477\n",
      "R^2: 0.827\n"
     ]
    }
   ],
   "source": [
    "# 7. Evaluate\n",
    "rmse = root_mean_squared_error(y_test, y_pred)\n",
    "r2 = r2_score(y_test, y_pred)\n",
    "print(f\"RMSE: {rmse:.3f}\")\n",
    "print(f\"R^2: {r2:.3f}\")\n"
   ]
  }
 ],
 "metadata": {
  "kernelspec": {
   "display_name": "7-machinelearninglibraries-HMhgkURg-py3.11",
   "language": "python",
   "name": "python3"
  },
  "language_info": {
   "codemirror_mode": {
    "name": "ipython",
    "version": 3
   },
   "file_extension": ".py",
   "mimetype": "text/x-python",
   "name": "python",
   "nbconvert_exporter": "python",
   "pygments_lexer": "ipython3",
   "version": "3.11.2"
  }
 },
 "nbformat": 4,
 "nbformat_minor": 5
}
